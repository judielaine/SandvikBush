{
 "cells": [
  {
   "cell_type": "markdown",
   "metadata": {},
   "source": [
    "# Merry Christmas 2020\n",
    "\n",
    "I hope we can find time to play with these notebooks together. I've enjoyed using them for work this year, and i've begun using them for personal projects. It could be a neat way for us to discuss physics.\n",
    "\n",
    "I'm not an expert at the graphing tools but i've wanted to learn."
   ]
  },
  {
   "cell_type": "code",
   "execution_count": null,
   "metadata": {
    "code_folding": [
     0
    ]
   },
   "outputs": [],
   "source": [
    "# Initialize\n",
    "import matplotlib.pyplot as plt \n",
    "import numpy as np"
   ]
  },
  {
   "cell_type": "markdown",
   "metadata": {},
   "source": [
    "Let's start with some Newtonian ideas. \"An object at rest stays at rest and an object in motion stays in motion with the same speed and in the same direction unless acted upon by an unbalanced force.\" I'm using the wording from [here](https://www.physicsclassroom.com/class/newtlaws/Lesson-1/Newton-s-First-Law). That site has a good description of concepts of [kinematics](https://www.physicsclassroom.com/Class/1DKin) that are the representations i'll be trying to make work in this notebook."
   ]
  },
  {
   "cell_type": "code",
   "execution_count": null,
   "metadata": {
    "code_folding": [
     0
    ]
   },
   "outputs": [],
   "source": [
    "# Set up the model\n",
    "\n",
    "x0 = 0 # We usually use x as a horizontal axis in a plot, and frequently it denotes a location or position.\n",
    "    # The zero location is usually what we consider the starting place.\n",
    "    # Units: meters\n",
    "t0 = 0 # T for time, and \"t-zero\" is our starting point.\n",
    "    # Units: seconds \n",
    "v = 2.5 # v for velocity: how position changes with time. Velocity is a ratio: Δx/t -- \n",
    "    # how postion changes, \"delta-x,\" the change in the x dimenstion, over \"t\", time\n",
    "    # Units: meters/second"
   ]
  },
  {
   "cell_type": "code",
   "execution_count": null,
   "metadata": {
    "code_folding": [
     0
    ]
   },
   "outputs": [],
   "source": [
    "# Where is something at a certain time?\n",
    "tg = 10 # \"T-given\" This is the time we know\n",
    "x = x0 + v * tg\n",
    "print(\"If\\n\\tthe velocity is\",v,\"m/s,\\n\\tthe object began at postion\",x0,\n",
    "      \",\\n\\tand the object moved for\",tg,\"seconds,\\n\\n it will have moved to x position\", x,\"m.\")"
   ]
  },
  {
   "cell_type": "code",
   "execution_count": null,
   "metadata": {
    "code_folding": [
     0
    ]
   },
   "outputs": [],
   "source": [
    "# How long to get to a specific location?\n",
    "xg = 45\n",
    "t = (xg - x0) / v\n",
    "print(\"If\\n\\tthe velocity is\",v,\"m/s,\\n\\tthe object began at postion\",x0,\n",
    "      \",\\n\\tand then the object was at \",xg,\"m,\\n\\n it will have moved for\", t,\"s.\")"
   ]
  },
  {
   "cell_type": "markdown",
   "metadata": {},
   "source": [
    "Instead of putting in values over and over, we can see \"all\" the answers at once if we make a graph. I'm referring to [this tutorial](http://courses.csail.mit.edu/6.867/wiki/images/3/3f/Plot-python.pdf)."
   ]
  },
  {
   "cell_type": "code",
   "execution_count": null,
   "metadata": {
    "code_folding": [
     0
    ]
   },
   "outputs": [],
   "source": [
    "# Given a range of locations, where & when is the object?\n",
    "\n",
    "xMax = 100 # xMax is the largest distance, we begin with x0\n",
    "xStep = .1 # This is the \"step\" used in calculation. \n",
    "\n",
    "# We need to represent our equation as a function\n",
    "def givenXfindT(x,x0,v):\n",
    "    t = (x - x0)/v\n",
    "    return t\n",
    "\n",
    "print(\"Test function with x = xg. Do we get the same as found above? \", givenXfindT(xg,x0,v))\n",
    "\n",
    "xVals = np.arange(x0, xMax, xStep)   # Grid from arg1 to arg2 in arg 3 steps\n",
    "yVals = givenXfindT(xVals,x0,v)               # Evaluate function on xvals\n",
    "plt.plot(xVals, yVals)              # Create line plot with yvals against xvals\n",
    "plt.show()                          # Show the figure"
   ]
  },
  {
   "cell_type": "markdown",
   "metadata": {},
   "source": [
    "Acceleration is the change in velocity over time, delta-v \n",
    "\n",
    "d(dx/t)/t\n",
    "\n",
    "x = x0 + v0 * tg + a * tg * tg"
   ]
  },
  {
   "cell_type": "code",
   "execution_count": null,
   "metadata": {
    "code_folding": [
     0
    ]
   },
   "outputs": [],
   "source": [
    "def givenTVAfindX(t,x0,v0,a):\n",
    "    x = x0 + v0 * t + a * t * t\n",
    "    return x\n",
    "\n",
    "a = 9.2\n",
    "tMax = 120\n",
    "tStep = 0.1\n",
    "\n",
    "yVals = np.arange(t0, tMax, tStep)   \n",
    "xVals = givenTVAfindX(yVals,x0,v,a)\n",
    "\n",
    "plt.plot(xVals, yVals)              # Create line plot with yvals against xvals\n",
    "plt.show()                          # Show the figure"
   ]
  },
  {
   "cell_type": "code",
   "execution_count": null,
   "metadata": {},
   "outputs": [],
   "source": []
  }
 ],
 "metadata": {
  "kernelspec": {
   "display_name": "Python 3",
   "language": "python",
   "name": "python3"
  },
  "language_info": {
   "codemirror_mode": {
    "name": "ipython",
    "version": 3
   },
   "file_extension": ".py",
   "mimetype": "text/x-python",
   "name": "python",
   "nbconvert_exporter": "python",
   "pygments_lexer": "ipython3",
   "version": "3.9.1"
  }
 },
 "nbformat": 4,
 "nbformat_minor": 2
}
